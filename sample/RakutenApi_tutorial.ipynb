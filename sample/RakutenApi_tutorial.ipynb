{
 "cells": [
  {
   "cell_type": "code",
   "execution_count": 1,
   "metadata": {},
   "outputs": [],
   "source": [
    "import requests\n",
    "import time\n",
    "import pandas as pd"
   ]
  },
  {
   "cell_type": "code",
   "execution_count": 2,
   "metadata": {},
   "outputs": [],
   "source": [
    "# 商品検索用途API\n",
    "# 詳細検索参考用URL:https://webservice.rakuten.co.jp/api/ichibaitemsearch/\n",
    "'''\n",
    "概要：\n",
    "item_parametersのデータに従って楽天サイト内の商品を検索する．\n",
    "shopcodeをrakuten24の店舗コードに設定済みのためrakuten24の商品のみが検索される．\n",
    "キーワードをindex.htmlから受け取ったデータに書き換えることによって様々な商品を検索できる．\n",
    "出力される情報については参考用URLを参照．\n",
    "'''\n",
    "item_url = 'https://app.rakuten.co.jp/services/api/IchibaItem/Search/20170706'\n",
    "keyword = \"水\"\n",
    "item_parameters = {\n",
    "            'applicationId': 1034112430128448197,\n",
    "#             'shopName' : '楽天24',\n",
    "            'shopcode' : \"rakuten24\",\n",
    "            'format': 'json',\n",
    "            'formatVersion': 2,\n",
    "            'genreId': 0,\n",
    "            'keyword' : keyword,\n",
    "            \n",
    "}"
   ]
  },
  {
   "cell_type": "code",
   "execution_count": 3,
   "metadata": {},
   "outputs": [],
   "source": [
    "# APIRequest\n",
    "r = requests.get(item_url, params=item_parameters)\n",
    "item_data = r.json()\n",
    "time.sleep(1)"
   ]
  },
  {
   "cell_type": "code",
   "execution_count": 4,
   "metadata": {},
   "outputs": [
    {
     "ename": "TypeError",
     "evalue": "list indices must be integers or slices, not str",
     "output_type": "error",
     "traceback": [
      "\u001b[1;31m---------------------------------------------------------------------------\u001b[0m",
      "\u001b[1;31mTypeError\u001b[0m                                 Traceback (most recent call last)",
      "\u001b[1;32m<ipython-input-4-87ede516a81b>\u001b[0m in \u001b[0;36m<module>\u001b[1;34m\u001b[0m\n\u001b[1;32m----> 1\u001b[1;33m \u001b[0mprint\u001b[0m\u001b[1;33m(\u001b[0m\u001b[0mitem_data\u001b[0m\u001b[1;33m[\u001b[0m\u001b[1;34m'Items'\u001b[0m\u001b[1;33m]\u001b[0m\u001b[1;33m[\u001b[0m\u001b[1;34m'shopName'\u001b[0m\u001b[1;33m]\u001b[0m\u001b[1;33m)\u001b[0m\u001b[1;33m\u001b[0m\u001b[1;33m\u001b[0m\u001b[0m\n\u001b[0m",
      "\u001b[1;31mTypeError\u001b[0m: list indices must be integers or slices, not str"
     ]
    }
   ],
   "source": [
    "print(item_data['Items']['shopName'])"
   ]
  },
  {
   "cell_type": "code",
   "execution_count": 11,
   "metadata": {},
   "outputs": [
    {
     "name": "stdout",
     "output_type": "stream",
     "text": [
      "30\n",
      "{'mediumImageUrls': ['https://thumbnail.image.rakuten.co.jp/@0_mall/rakuten24/cabinet/074/9000009984074.jpg?_ex=128x128'], 'pointRate': 1, 'shopOfTheYearFlag': 0, 'affiliateRate': 8, 'shipOverseasFlag': 0, 'asurakuFlag': 0, 'endTime': '', 'taxFlag': 0, 'startTime': '', 'itemCaption': 'お店TOP＞水・飲料＞水・ミネラルウォーター＞ミネラルウォーター＞ミネラルウォーター全部＞クリスタルガイザー 水 (500mL*48本入)合わせ買いは商品合計税抜2500円で送料無料（北海道・沖縄除く）【クリスタルガイザー 水の商品詳細】アメリカの定番ミネラルウォーター、クリスタルガイザー。まとめ買いに最適！クセが少なく飲みやすいので、水分補給にそのまま飲むもよし、コーヒー・お茶などの飲料用、お米やお料理等、体に取り入れる水としていろいろな場所場面で大活躍！また、職場・学校・お店・レジャー等外出先にも持って行っていろいろな場面で使えますよ。非常時の備えとして防災グッズとあわせて備蓄しておくのもおすすめです。【クリスタルガイザー 水の原材料】水(湧水)【栄養成分】カリフォルニア・オランチャ水源(100mLあたり)エネルギー・・・0kcaLたんぱく質・・・0g脂質・・・0g炭水化物・・・0gナトリウム・・・1.91mgカルシウム・・・2.24mgマグネシウム・・・0.27mgカリウム・・・0.26mg硬度・・・67mg／Lウィード・シャスタ水源(100mLあたり)エネルギー・・・0kcaLタンパク質・・・0g脂質・・・ 0g炭水化物・・・0gナトリウム・・・1.13mgカルシウム・・・ 0.64mgマグネシウム・・・0.54mgカリウム・・・0.18mgバナジウム・・・ 5μg硬度・・・38mg／L【保存方法】・高温、直射日光をさけて保存してください。・開栓後は冷蔵庫に入れ、お早めにお飲みください。・容器のまま、加熱、凍結はしないでください。・加熱、凍結、長期保存等により白い沈殿物ができる事がありますが、天然のミネラル成分の結晶ですのでご安心ください。【注意事項】・キャップが小さく、開けづらくなっております。開封時にはプラスチック部分で指などを切らないようご注意ください。【原産国】アメリカ【ブランド】クリスタルガイザー(Crystal Geyser)【発売元、製造元、輸入元又は販売元】楽天本品は並行輸入品です。パッケージ等、予告なく変更される場合がございます。予めご了承ください。賞味期限はボトル上部にSELL\\u3000BY\\u3000MM.DD.YYと記載されております。 例）10.08.20XX→20XX年10月8日まで採水地は2か所（オランチャ・シャスタ）ございますがお選びいただくことはできません。リニューアルに伴い、パッケージ・内容等予告なく変更する場合がございます。予めご了承ください。(ケース セット Crystal Geyser クリスタルカイザー 0.5L クリスタルゲイザー)/ケース/楽天810-0001 福岡県福岡市中央区天神1丁目15番6号050-5306-1825広告文責：楽天株式会社電話：050-5577-5043[ミネラルウォーター/ブランド：クリスタルガイザー(Crystal Geyser)/]', 'catchcopy': '合わせ買いは商品合計税抜2500円で送料無料（北海道・沖縄除く） / 水 ミネラルウォーター 500ml 48本入 / クリスタルガイザー(Crystal Geyser) / クリスタルガイザー 水', 'tagIds': [1003704, 1003726, 1003729, 1003741, 1003798, 1007192, 1007194], 'smallImageUrls': ['https://thumbnail.image.rakuten.co.jp/@0_mall/rakuten24/cabinet/074/9000009984074.jpg?_ex=64x64'], 'asurakuClosingTime': '', 'imageFlag': 1, 'availability': 1, 'shopAffiliateUrl': '', 'itemCode': 'rakuten24:10130129', 'postageFlag': 0, 'itemName': 'クリスタルガイザー 水(500mL*48本入)【イチオシ】【bnad02】【WSpe06】【cga01】【クリスタルガイザー(Crystal Geyser)】[水 ミネラルウォーター 500ml 48本入]', 'itemPrice': 2420, 'pointRateEndTime': '', 'shopCode': 'rakuten24', 'affiliateUrl': '', 'giftFlag': 0, 'shopName': '楽天24', 'reviewCount': 20431, 'asurakuArea': '', 'shopUrl': 'https://www.rakuten.co.jp/rakuten24/', 'creditCardFlag': 1, 'reviewAverage': 4.65, 'shipOverseasArea': '', 'genreId': '201351', 'pointRateStartTime': '', 'itemUrl': 'https://item.rakuten.co.jp/rakuten24/c001222600001/'}\n",
      "{'mediumImageUrls': ['https://thumbnail.image.rakuten.co.jp/@0_mall/rakuten24/cabinet/068/10068.jpg?_ex=128x128'], 'pointRate': 1, 'shopOfTheYearFlag': 0, 'affiliateRate': 8, 'shipOverseasFlag': 0, 'asurakuFlag': 0, 'endTime': '', 'taxFlag': 0, 'startTime': '', 'itemCaption': 'お店TOP＞水・飲料＞水・ミネラルウォーター＞ミネラルウォーター＞国内ミネラルウォーター＞コカ・コーラ 森の水だより ペコらくボトル (2L*12本セット)合わせ買いは商品合計税抜2500円で送料無料（北海道・沖縄除く）【コカ・コーラ 森の水だより ペコらくボトルの商品詳細】●大型PETで不満に感じられていた、飲用後のつぶしにくさや注ぎにくさを改善した、「つぶしやすい、しかも、注ぎやすい。」新しい大型ペットボトルです。●自然の恵みを含んだおいしい天然水を、徹底した品質管理のもと、採水地で汲み上げその場でボトリングする、「採水地パック製法」を採用。新鮮でやさしいおいしさを、そのままお楽しみいただけます。【品名・名称】ナチュラルミネラルウォーター【コカ・コーラ 森の水だより ペコらくボトルの原材料】水(鉱水)【原産国】日本【ブランド】コカコーラ(Coca-Cola)【発売元、製造元、輸入元又は販売元】日本コカ・コーラ※お届けする地域により、採水地が異なります。予めご了承ください。※お届けは、12本セット(6本入*2コ)となります。※説明文は単品の内容です。リニューアルに伴い、パッケージ・内容等予告なく変更する場合がございます。予めご了承ください。(2000mL)・単品JAN：4902102112062/ケース/日本コカ・コーラ150-0002 東京都渋谷区渋谷4-6-30120-308509広告文責：楽天株式会社電話：050-5577-5043[ミネラルウォーター/ブランド：コカコーラ(Coca-Cola)/]\\u3000', 'catchcopy': '合わせ買いは商品合計税抜2500円で送料無料（北海道・沖縄除く） / 水 ミネラルウォーター 2l 12本 / コカコーラ(Coca-Cola) / コカ・コーラ 森の水だより ペコらくボトル', 'tagIds': [1003740, 1007195, 1011738, 1027392], 'smallImageUrls': ['https://thumbnail.image.rakuten.co.jp/@0_mall/rakuten24/cabinet/068/10068.jpg?_ex=64x64'], 'asurakuClosingTime': '', 'imageFlag': 1, 'availability': 1, 'shopAffiliateUrl': '', 'itemCode': 'rakuten24:10673995', 'postageFlag': 0, 'itemName': 'コカ・コーラ 森の水だより ペコらくボトル(2L*12本セット)【コカコーラ(Coca-Cola)】[水 ミネラルウォーター 2l 12本]', 'itemPrice': 1748, 'pointRateEndTime': '', 'shopCode': 'rakuten24', 'affiliateUrl': '', 'giftFlag': 0, 'shopName': '楽天24', 'reviewCount': 2, 'asurakuArea': '', 'shopUrl': 'https://www.rakuten.co.jp/rakuten24/', 'creditCardFlag': 1, 'reviewAverage': 4.5, 'shipOverseasArea': '', 'genreId': '201351', 'pointRateStartTime': '', 'itemUrl': 'https://item.rakuten.co.jp/rakuten24/10068/'}\n"
     ]
    }
   ],
   "source": [
    "# Output of Item informations\n",
    "print(len(item_data['Items']))\n",
    "for i in item_data['Items']:\n",
    "#     print(i['shopName'])\n",
    "    if i['shopName'] == \"楽天24\":\n",
    "        print(i)"
   ]
  },
  {
   "cell_type": "code",
   "execution_count": null,
   "metadata": {},
   "outputs": [],
   "source": []
  }
 ],
 "metadata": {
  "kernelspec": {
   "display_name": "Python 3",
   "language": "python",
   "name": "python3"
  },
  "language_info": {
   "codemirror_mode": {
    "name": "ipython",
    "version": 3
   },
   "file_extension": ".py",
   "mimetype": "text/x-python",
   "name": "python",
   "nbconvert_exporter": "python",
   "pygments_lexer": "ipython3",
   "version": "3.7.4"
  }
 },
 "nbformat": 4,
 "nbformat_minor": 4
}
