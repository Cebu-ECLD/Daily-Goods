{
 "cells": [
  {
   "cell_type": "code",
   "execution_count": 5,
   "metadata": {},
   "outputs": [],
   "source": [
    "import requests\n",
    "import time\n",
    "import pandas as pd\n",
    "import pymysql.cursors"
   ]
  },
  {
   "cell_type": "code",
   "execution_count": 6,
   "metadata": {},
   "outputs": [],
   "source": [
    "# DBとの接続を確立\n",
    "\n",
    "connection = pymysql.connect(host='localhost',\n",
    "                             user='root',\n",
    "                             passwd='',\n",
    "                             db='rakuten_db',\n",
    "                             charset='utf8',\n",
    "                             cursorclass=pymysql.cursors.DictCursor)"
   ]
  },
  {
   "cell_type": "code",
   "execution_count": 2,
   "metadata": {},
   "outputs": [],
   "source": [
    "# 商品検索用途API\n",
    "# 詳細検索参考用URL:https://webservice.rakuten.co.jp/api/ichibaitemsearch/\n",
    "'''\n",
    "概要：\n",
    "item_parametersのデータに従って楽天サイト内の商品を検索する．\n",
    "shopcodeをrakuten24の店舗コードに設定済みのためrakuten24の商品のみが検索される．\n",
    "キーワードをindex.htmlから受け取ったデータに書き換えることによって様々な商品を検索できる．\n",
    "出力される情報については参考用URLを参照．\n",
    "'''\n",
    "item_url = 'https://app.rakuten.co.jp/services/api/IchibaItem/Search/20170706'\n",
    "keyword = \"水\"\n",
    "item_parameters = {\n",
    "            'applicationId': 1034112430128448197,\n",
    "#             'shopName' : '楽天24',\n",
    "            'shopcode' : \"rakuten24\",\n",
    "            'format': 'json',\n",
    "            'formatVersion': 2,\n",
    "            'genreId': 0,\n",
    "            'keyword' : keyword,\n",
    "            \n",
    "}"
   ]
  },
  {
   "cell_type": "code",
   "execution_count": 3,
   "metadata": {},
   "outputs": [],
   "source": [
    "# APIRequest\n",
    "r = requests.get(item_url, params=item_parameters)\n",
    "item_data = r.json()\n",
    "time.sleep(1)"
   ]
  },
  {
   "cell_type": "code",
   "execution_count": 13,
   "metadata": {},
   "outputs": [
    {
     "name": "stdout",
     "output_type": "stream",
     "text": [
      "30\n"
     ]
    },
    {
     "name": "stderr",
     "output_type": "stream",
     "text": [
      "C:\\Users\\yu\\Anaconda3\\envs\\tensorflow\\lib\\site-packages\\pymysql\\cursors.py:329: Warning: (1364, \"Field 'itemnumber' doesn't have a default value\")\n",
      "  self._do_get_result()\n",
      "C:\\Users\\yu\\Anaconda3\\envs\\tensorflow\\lib\\site-packages\\pymysql\\cursors.py:329: Warning: (1364, \"Field 'itemquantity' doesn't have a default value\")\n",
      "  self._do_get_result()\n"
     ]
    }
   ],
   "source": [
    "# ショップ名が楽天24の商品のみをDBにInsertしていく\n",
    "print(len(item_data['Items']))\n",
    "for i in item_data['Items']:\n",
    "#     print(i['shopName'])\n",
    "    if i['shopName'] == \"楽天24\":\n",
    "        with connection.cursor() as cursor:\n",
    "            sql = \"INSERT INTO product_table(`itemPrice`, `mediumImageUrls`, `itemName`, `reviewCount`, `reviewAverage`, `itemCaption`) VALUES (%s,%s,%s,%s,%s,%s)\"\n",
    "            cursor.execute(sql,(i['itemPrice'],i['mediumImageUrls'],i['itemName'],i['reviewCount'],i['reviewAverage'],i['itemCaption']))\n",
    "            connection.commit()\n",
    "#         print(i)"
   ]
  },
  {
   "cell_type": "code",
   "execution_count": null,
   "metadata": {},
   "outputs": [],
   "source": []
  }
 ],
 "metadata": {
  "kernelspec": {
   "display_name": "Python 3",
   "language": "python",
   "name": "python3"
  },
  "language_info": {
   "codemirror_mode": {
    "name": "ipython",
    "version": 3
   },
   "file_extension": ".py",
   "mimetype": "text/x-python",
   "name": "python",
   "nbconvert_exporter": "python",
   "pygments_lexer": "ipython3",
   "version": "3.7.4"
  }
 },
 "nbformat": 4,
 "nbformat_minor": 4
}
