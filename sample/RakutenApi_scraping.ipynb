{
 "cells": [
  {
   "cell_type": "code",
   "execution_count": 1,
   "metadata": {},
   "outputs": [],
   "source": [
    "import requests\n",
    "import time\n",
    "import pandas as pd\n",
    "import pymysql.cursors"
   ]
  },
  {
   "cell_type": "code",
   "execution_count": 7,
   "metadata": {},
   "outputs": [],
   "source": [
    "# DBとの接続を確立\n",
    "\n",
    "connection = pymysql.connect(host='localhost',\n",
    "                             user='root',\n",
    "                             passwd='',\n",
    "                             db='rakuten_db',\n",
    "                             charset='utf8',\n",
    "                             cursorclass=pymysql.cursors.DictCursor)"
   ]
  },
  {
   "cell_type": "code",
   "execution_count": 8,
   "metadata": {},
   "outputs": [
    {
     "name": "stdout",
     "output_type": "stream",
     "text": [
      "{'mediumImageUrls': ['https://thumbnail.image.rakuten.co.jp/@0_mall/rakuten24/cabinet/708/15708.jpg?_ex=128x128'], 'pointRate': 1, 'shopOfTheYearFlag': 0, 'affiliateRate': 3, 'shipOverseasFlag': 0, 'asurakuFlag': 0, 'endTime': '', 'taxFlag': 0, 'startTime': '', 'itemCaption': 'お店TOP＞日用品＞ペーパー類(紙用品)＞ティッシュ＞ボックスティッシュ＞ハロー コンパクトボックス (300枚(150組)*5コ入*12コセット)送料無料（北海道・沖縄除く）【ハロー コンパクトボックスの商品詳細】●パルプ100％の製品です。●蛍光染料は使用しておりません。●この製品は、アジアで最大の総合製紙企業であるアジア・パルプ・アンド・ペーパー(APP)のISO14001を認証取得している工場で生産されています。【使用方法】★開けやすい取出し口・指穴の部分に指先を入れて、引き上げて下さい。・取出し口のミシン目で指先を傷つけることがありますのでご注意下さい。★使い終わった箱のたたみ方(1)箱の両サイドにあるミシン目部分を指で押して、穴をあけて下さい。(2)上ブタと下ブタをはがします。(3)折りたたんで下さい。【ハロー コンパクトボックスの原材料】バージンパルプ100％【規格概要】寸法・・・縦195mm*横205mm【注意事項】・ティシュペーパーは水に溶けにくいので水洗トイレに流さないでください。トイレに詰まることがあります。・乳幼児の手の届かないところに保管してください。・火気の近くに置かないでください。【原産国】中国【ブランド】ハロー【発売元、製造元、輸入元又は販売元】ユニバーサル・ペーパー※説明文は単品の内容です。リニューアルに伴い、パッケージ・内容等予告なく変更する場合がございます。予めご了承ください。・単品JAN：4580287281119ユニバーサル・ペーパー141-0022 東京都品川区東五反田2-10-2 東五反田スクエア14階 03-6859-5586広告文責：楽天株式会社電話：050-5577-5043[ティッシュ/ブランド：ハロー/]', 'catchcopy': '送料無料（北海道・沖縄除く） / ハロー / ハロー コンパクトボックス', 'tagIds': [], 'smallImageUrls': ['https://thumbnail.image.rakuten.co.jp/@0_mall/rakuten24/cabinet/708/15708.jpg?_ex=64x64'], 'asurakuClosingTime': '', 'imageFlag': 1, 'availability': 1, 'shopAffiliateUrl': '', 'itemCode': 'rakuten24:10645739', 'postageFlag': 1, 'itemName': 'ハロー コンパクトボックス(300枚(150組)*5コ入*12コセット)【ハロー】', 'itemPrice': 2930, 'pointRateEndTime': '', 'shopCode': 'rakuten24', 'affiliateUrl': '', 'giftFlag': 0, 'shopName': '楽天24', 'reviewCount': 47, 'asurakuArea': '', 'shopUrl': 'https://www.rakuten.co.jp/rakuten24/', 'creditCardFlag': 1, 'reviewAverage': 4.43, 'shipOverseasArea': '', 'genreId': '100670', 'pointRateStartTime': '', 'itemUrl': 'https://item.rakuten.co.jp/rakuten24/15708/'}\n",
      "INSERT INTO product_table(`itemPrice`, `itemName`, `reviewCount`, `reviewAverage`, `itemCaption`, `mediumImageUrls_1`, `mediumImageUrls_2`, `mediumImageUrls_3`, `mediumImageUrls_4`, `mediumImageUrls_5`, `smallImageUrls_1`, `smallImageUrls_2`, `smallImageUrls_3`, `smallImageUrls_4`, `smallImageUrls_5`) VALUES (2930,'ハロー コンパクトボックス(300枚(150組)*5コ入*12コセット)【ハロー】',47,4.43,'お店TOP＞日用品＞ペーパー類(紙用品)＞ティッシュ＞ボックスティッシュ＞ハロー コンパクトボックス (300枚(150組)*5コ入*12コセット)送料無料（北海道・沖縄除く）【ハロー コンパクトボックスの商品詳細】●パルプ100％の製品です。●蛍光染料は使用しておりません。●この製品は、アジアで最大の総合製紙企業であるアジア・パルプ・アンド・ペーパー(APP)のISO14001を認証取得している工場で生産されています。【使用方法】★開けやすい取出し口・指穴の部分に指先を入れて、引き上げて下さい。・取出し口のミシン目で指先を傷つけることがありますのでご注意下さい。★使い終わった箱のたたみ方(1)箱の両サイドにあるミシン目部分を指で押して、穴をあけて下さい。(2)上ブタと下ブタをはがします。(3)折りたたんで下さい。【ハロー コンパクトボックスの原材料】バージンパルプ100％【規格概要】寸法・・・縦195mm*横205mm【注意事項】・ティシュペーパーは水に溶けにくいので水洗トイレに流さないでください。トイレに詰まることがあります。・乳幼児の手の届かないところに保管してください。・火気の近くに置かないでください。【原産国】中国【ブランド】ハロー【発売元、製造元、輸入元又は販売元】ユニバーサル・ペーパー※説明文は単品の内容です。リニューアルに伴い、パッケージ・内容等予告なく変更する場合がございます。予めご了承ください。・単品JAN：4580287281119ユニバーサル・ペーパー141-0022 東京都品川区東五反田2-10-2 東五反田スクエア14階 03-6859-5586広告文責：楽天株式会社電話：050-5577-5043[ティッシュ/ブランド：ハロー/]','https://thumbnail.image.rakuten.co.jp/@0_mall/rakuten24/cabinet/708/15708.jpg?_ex=128x128','../static/image/no_image.jpg','../static/image/no_image.jpg','../static/image/no_image.jpg','../static/image/no_image.jpg','https://thumbnail.image.rakuten.co.jp/@0_mall/rakuten24/cabinet/708/15708.jpg?_ex=128x128','../static/image/no_image.jpg','../static/image/no_image.jpg','../static/image/no_image.jpg','../static/image/no_image.jpg')\n",
      "{'mediumImageUrls': ['https://thumbnail.image.rakuten.co.jp/@0_mall/rakuten24/cabinet/119/4580287281119.jpg?_ex=128x128'], 'pointRate': 1, 'shopOfTheYearFlag': 0, 'affiliateRate': 3, 'shipOverseasFlag': 0, 'asurakuFlag': 0, 'endTime': '', 'taxFlag': 0, 'startTime': '', 'itemCaption': 'お店TOP＞日用品＞ペーパー類(紙用品)＞ティッシュ＞ボックスティッシュ＞ハロー コンパクトボックス (300枚(150組)*5コ入)税抜2500円以上で送料無料（北海道・沖縄除く）【ハロー コンパクトボックスの商品詳細】●パルプ100％の製品です。●蛍光染料は使用しておりません。●この製品は、アジアで最大の総合製紙企業であるアジア・パルプ・アンド・ペーパー(APP)のISO14001を認証取得している工場で生産されています。【使用方法】★開けやすい取出し口・指穴の部分に指先を入れて、引き上げて下さい。・取出し口のミシン目で指先を傷つけることがありますのでご注意下さい。★使い終わった箱のたたみ方(1)箱の両サイドにあるミシン目部分を指で押して、穴をあけて下さい。(2)上ブタと下ブタをはがします。(3)折りたたんで下さい。【ハロー コンパクトボックスの原材料】バージンパルプ100％【規格概要】寸法・・・縦195mm*横205mm【注意事項】・ティシュペーパーは水に溶けにくいので水洗トイレに流さないでください。トイレに詰まることがあります。・乳幼児の手の届かないところに保管してください。・火気の近くに置かないでください。【原産国】中国【ブランド】ハロー【発売元、製造元、輸入元又は販売元】ユニバーサル・ペーパーリニューアルに伴い、パッケージ・内容等予告なく変更する場合がございます。予めご了承ください。ユニバーサル・ペーパー141-0022 東京都品川区東五反田2-10-2 東五反田スクエア14階 03-6859-5586広告文責：楽天株式会社電話：050-5577-5043[ティッシュ/ブランド：ハロー/]\\u3000', 'catchcopy': '税抜2500円以上で送料無料（北海道・沖縄除く） / ハロー / ハロー コンパクトボックス', 'tagIds': [], 'smallImageUrls': ['https://thumbnail.image.rakuten.co.jp/@0_mall/rakuten24/cabinet/119/4580287281119.jpg?_ex=64x64'], 'asurakuClosingTime': '', 'imageFlag': 1, 'availability': 1, 'shopAffiliateUrl': '', 'itemCode': 'rakuten24:10317819', 'postageFlag': 1, 'itemName': 'ハロー コンパクトボックス(300枚(150組)*5コ入)【evm2】【bnad01】【ハロー】', 'itemPrice': 257, 'pointRateEndTime': '', 'shopCode': 'rakuten24', 'affiliateUrl': '', 'giftFlag': 0, 'shopName': '楽天24', 'reviewCount': 176, 'asurakuArea': '', 'shopUrl': 'https://www.rakuten.co.jp/rakuten24/', 'creditCardFlag': 1, 'reviewAverage': 4.48, 'shipOverseasArea': '', 'genreId': '100670', 'pointRateStartTime': '', 'itemUrl': 'https://item.rakuten.co.jp/rakuten24/e110852h/'}\n",
      "INSERT INTO product_table(`itemPrice`, `itemName`, `reviewCount`, `reviewAverage`, `itemCaption`, `mediumImageUrls_1`, `mediumImageUrls_2`, `mediumImageUrls_3`, `mediumImageUrls_4`, `mediumImageUrls_5`, `smallImageUrls_1`, `smallImageUrls_2`, `smallImageUrls_3`, `smallImageUrls_4`, `smallImageUrls_5`) VALUES (257,'ハロー コンパクトボックス(300枚(150組)*5コ入)【evm2】【bnad01】【ハロー】',176,4.48,'お店TOP＞日用品＞ペーパー類(紙用品)＞ティッシュ＞ボックスティッシュ＞ハロー コンパクトボックス (300枚(150組)*5コ入)税抜2500円以上で送料無料（北海道・沖縄除く）【ハロー コンパクトボックスの商品詳細】●パルプ100％の製品です。●蛍光染料は使用しておりません。●この製品は、アジアで最大の総合製紙企業であるアジア・パルプ・アンド・ペーパー(APP)のISO14001を認証取得している工場で生産されています。【使用方法】★開けやすい取出し口・指穴の部分に指先を入れて、引き上げて下さい。・取出し口のミシン目で指先を傷つけることがありますのでご注意下さい。★使い終わった箱のたたみ方(1)箱の両サイドにあるミシン目部分を指で押して、穴をあけて下さい。(2)上ブタと下ブタをはがします。(3)折りたたんで下さい。【ハロー コンパクトボックスの原材料】バージンパルプ100％【規格概要】寸法・・・縦195mm*横205mm【注意事項】・ティシュペーパーは水に溶けにくいので水洗トイレに流さないでください。トイレに詰まることがあります。・乳幼児の手の届かないところに保管してください。・火気の近くに置かないでください。【原産国】中国【ブランド】ハロー【発売元、製造元、輸入元又は販売元】ユニバーサル・ペーパーリニューアルに伴い、パッケージ・内容等予告なく変更する場合がございます。予めご了承ください。ユニバーサル・ペーパー141-0022 東京都品川区東五反田2-10-2 東五反田スクエア14階 03-6859-5586広告文責：楽天株式会社電話：050-5577-5043[ティッシュ/ブランド：ハロー/]　','https://thumbnail.image.rakuten.co.jp/@0_mall/rakuten24/cabinet/119/4580287281119.jpg?_ex=128x128','../static/image/no_image.jpg','../static/image/no_image.jpg','../static/image/no_image.jpg','../static/image/no_image.jpg','https://thumbnail.image.rakuten.co.jp/@0_mall/rakuten24/cabinet/119/4580287281119.jpg?_ex=128x128','../static/image/no_image.jpg','../static/image/no_image.jpg','../static/image/no_image.jpg','../static/image/no_image.jpg')\n",
      "{'mediumImageUrls': ['https://thumbnail.image.rakuten.co.jp/@0_mall/rakuten24/cabinet/465/16465.jpg?_ex=128x128'], 'pointRate': 1, 'shopOfTheYearFlag': 0, 'affiliateRate': 3, 'shipOverseasFlag': 0, 'asurakuFlag': 0, 'endTime': '', 'taxFlag': 0, 'startTime': '', 'itemCaption': 'お店TOP＞日用品＞ペーパー類(紙用品)＞ティッシュ＞ボックスティッシュ＞ハロー コンパクトボックス (300枚(150組)*5コ入*2コセット)税抜2500円以上で送料無料（北海道・沖縄除く）【ハロー コンパクトボックスの商品詳細】●パルプ100％の製品です。●蛍光染料は使用しておりません。●この製品は、アジアで最大の総合製紙企業であるアジア・パルプ・アンド・ペーパー(APP)のISO14001を認証取得している工場で生産されています。【使用方法】★開けやすい取出し口・指穴の部分に指先を入れて、引き上げて下さい。・取出し口のミシン目で指先を傷つけることがありますのでご注意下さい。★使い終わった箱のたたみ方(1)箱の両サイドにあるミシン目部分を指で押して、穴をあけて下さい。(2)上ブタと下ブタをはがします。(3)折りたたんで下さい。【ハロー コンパクトボックスの原材料】バージンパルプ100％【規格概要】寸法・・・縦195mm*横205mm【注意事項】・ティシュペーパーは水に溶けにくいので水洗トイレに流さないでください。トイレに詰まることがあります。・乳幼児の手の届かないところに保管してください。・火気の近くに置かないでください。【原産国】中国【ブランド】ハロー【発売元、製造元、輸入元又は販売元】ユニバーサル・ペーパー※説明文は単品の内容です。リニューアルに伴い、パッケージ・内容等予告なく変更する場合がございます。予めご了承ください。・単品JAN：4580287281119ユニバーサル・ペーパー141-0022 東京都品川区東五反田2-10-2 東五反田スクエア14階 03-6859-5586広告文責：楽天株式会社電話：050-5577-5043[ティッシュ/ブランド：ハロー/]', 'catchcopy': '税抜2500円以上で送料無料（北海道・沖縄除く） / ハロー / ハロー コンパクトボックス', 'tagIds': [], 'smallImageUrls': ['https://thumbnail.image.rakuten.co.jp/@0_mall/rakuten24/cabinet/465/16465.jpg?_ex=64x64'], 'asurakuClosingTime': '', 'imageFlag': 1, 'availability': 1, 'shopAffiliateUrl': '', 'itemCode': 'rakuten24:10645841', 'postageFlag': 1, 'itemName': 'ハロー コンパクトボックス(300枚(150組)*5コ入*2コセット)【ハロー】', 'itemPrice': 508, 'pointRateEndTime': '', 'shopCode': 'rakuten24', 'affiliateUrl': '', 'giftFlag': 0, 'shopName': '楽天24', 'reviewCount': 7, 'asurakuArea': '', 'shopUrl': 'https://www.rakuten.co.jp/rakuten24/', 'creditCardFlag': 1, 'reviewAverage': 4.43, 'shipOverseasArea': '', 'genreId': '100670', 'pointRateStartTime': '', 'itemUrl': 'https://item.rakuten.co.jp/rakuten24/16465/'}\n",
      "INSERT INTO product_table(`itemPrice`, `itemName`, `reviewCount`, `reviewAverage`, `itemCaption`, `mediumImageUrls_1`, `mediumImageUrls_2`, `mediumImageUrls_3`, `mediumImageUrls_4`, `mediumImageUrls_5`, `smallImageUrls_1`, `smallImageUrls_2`, `smallImageUrls_3`, `smallImageUrls_4`, `smallImageUrls_5`) VALUES (508,'ハロー コンパクトボックス(300枚(150組)*5コ入*2コセット)【ハロー】',7,4.43,'お店TOP＞日用品＞ペーパー類(紙用品)＞ティッシュ＞ボックスティッシュ＞ハロー コンパクトボックス (300枚(150組)*5コ入*2コセット)税抜2500円以上で送料無料（北海道・沖縄除く）【ハロー コンパクトボックスの商品詳細】●パルプ100％の製品です。●蛍光染料は使用しておりません。●この製品は、アジアで最大の総合製紙企業であるアジア・パルプ・アンド・ペーパー(APP)のISO14001を認証取得している工場で生産されています。【使用方法】★開けやすい取出し口・指穴の部分に指先を入れて、引き上げて下さい。・取出し口のミシン目で指先を傷つけることがありますのでご注意下さい。★使い終わった箱のたたみ方(1)箱の両サイドにあるミシン目部分を指で押して、穴をあけて下さい。(2)上ブタと下ブタをはがします。(3)折りたたんで下さい。【ハロー コンパクトボックスの原材料】バージンパルプ100％【規格概要】寸法・・・縦195mm*横205mm【注意事項】・ティシュペーパーは水に溶けにくいので水洗トイレに流さないでください。トイレに詰まることがあります。・乳幼児の手の届かないところに保管してください。・火気の近くに置かないでください。【原産国】中国【ブランド】ハロー【発売元、製造元、輸入元又は販売元】ユニバーサル・ペーパー※説明文は単品の内容です。リニューアルに伴い、パッケージ・内容等予告なく変更する場合がございます。予めご了承ください。・単品JAN：4580287281119ユニバーサル・ペーパー141-0022 東京都品川区東五反田2-10-2 東五反田スクエア14階 03-6859-5586広告文責：楽天株式会社電話：050-5577-5043[ティッシュ/ブランド：ハロー/]','https://thumbnail.image.rakuten.co.jp/@0_mall/rakuten24/cabinet/465/16465.jpg?_ex=128x128','../static/image/no_image.jpg','../static/image/no_image.jpg','../static/image/no_image.jpg','../static/image/no_image.jpg','https://thumbnail.image.rakuten.co.jp/@0_mall/rakuten24/cabinet/465/16465.jpg?_ex=128x128','../static/image/no_image.jpg','../static/image/no_image.jpg','../static/image/no_image.jpg','../static/image/no_image.jpg')\n"
     ]
    },
    {
     "ename": "KeyboardInterrupt",
     "evalue": "",
     "output_type": "error",
     "traceback": [
      "\u001b[1;31m---------------------------------------------------------------------------\u001b[0m",
      "\u001b[1;31mKeyboardInterrupt\u001b[0m                         Traceback (most recent call last)",
      "\u001b[1;32m<ipython-input-8-d22428cfd531>\u001b[0m in \u001b[0;36m<module>\u001b[1;34m\u001b[0m\n\u001b[0;32m     25\u001b[0m     \u001b[0mr\u001b[0m \u001b[1;33m=\u001b[0m \u001b[0mrequests\u001b[0m\u001b[1;33m.\u001b[0m\u001b[0mget\u001b[0m\u001b[1;33m(\u001b[0m\u001b[0mitem_url\u001b[0m\u001b[1;33m,\u001b[0m \u001b[0mparams\u001b[0m\u001b[1;33m=\u001b[0m\u001b[0mitem_parameters\u001b[0m\u001b[1;33m)\u001b[0m\u001b[1;33m\u001b[0m\u001b[1;33m\u001b[0m\u001b[0m\n\u001b[0;32m     26\u001b[0m     \u001b[0mitem_data\u001b[0m \u001b[1;33m=\u001b[0m \u001b[0mr\u001b[0m\u001b[1;33m.\u001b[0m\u001b[0mjson\u001b[0m\u001b[1;33m(\u001b[0m\u001b[1;33m)\u001b[0m\u001b[1;33m\u001b[0m\u001b[1;33m\u001b[0m\u001b[0m\n\u001b[1;32m---> 27\u001b[1;33m     \u001b[0mtime\u001b[0m\u001b[1;33m.\u001b[0m\u001b[0msleep\u001b[0m\u001b[1;33m(\u001b[0m\u001b[1;36m1\u001b[0m\u001b[1;33m)\u001b[0m\u001b[1;33m\u001b[0m\u001b[1;33m\u001b[0m\u001b[0m\n\u001b[0m\u001b[0;32m     28\u001b[0m     \u001b[1;32mfor\u001b[0m \u001b[0mi\u001b[0m \u001b[1;32min\u001b[0m \u001b[0mitem_data\u001b[0m\u001b[1;33m[\u001b[0m\u001b[1;34m'Items'\u001b[0m\u001b[1;33m]\u001b[0m\u001b[1;33m:\u001b[0m\u001b[1;33m\u001b[0m\u001b[1;33m\u001b[0m\u001b[0m\n\u001b[0;32m     29\u001b[0m         \u001b[1;32mif\u001b[0m \u001b[0mi\u001b[0m\u001b[1;33m[\u001b[0m\u001b[1;34m'shopName'\u001b[0m\u001b[1;33m]\u001b[0m \u001b[1;33m==\u001b[0m \u001b[1;34m\"楽天24\"\u001b[0m\u001b[1;33m:\u001b[0m\u001b[1;33m\u001b[0m\u001b[1;33m\u001b[0m\u001b[0m\n",
      "\u001b[1;31mKeyboardInterrupt\u001b[0m: "
     ]
    }
   ],
   "source": [
    "# 商品検索用途API\n",
    "# 詳細検索参考用URL:https://webservice.rakuten.co.jp/api/ichibaitemsearch/\n",
    "'''\n",
    "概要：\n",
    "item_parametersのデータに従って楽天サイト内の商品を検索する．\n",
    "shopcodeをrakuten24の店舗コードに設定済みのためrakuten24の商品のみが検索れる．\n",
    "キーワードをindex.htmlから受け取ったデータに書き換えることによって様々な商品を検索できる．\n",
    "出力される情報については参考用URLを参照．\n",
    "'''\n",
    "item_url = 'https://app.rakuten.co.jp/services/api/IchibaItem/Search/20170706'\n",
    "keyword = \"ハローコンパクトボックス\"\n",
    "for page in range(1,50):\n",
    "    item_parameters = {\n",
    "                'applicationId': 1034112430128448197,\n",
    "    #             'shopName' : '%e6%a5%bd%e5%a4%a924',\n",
    "    #             'shopcode' : \"rakuten24\",\n",
    "                'format': 'json',\n",
    "                'formatVersion': 2,\n",
    "                'genreId': 0,\n",
    "                'keyword' : keyword,\n",
    "                'page' : page\n",
    "    #             'itemCode' : 'rakuten24:10673995',\n",
    "    }\n",
    "    # APIRequest\n",
    "    r = requests.get(item_url, params=item_parameters)\n",
    "    item_data = r.json()\n",
    "    time.sleep(1)\n",
    "    for i in item_data['Items']:\n",
    "        if i['shopName'] == \"楽天24\":\n",
    "            print(i)\n",
    "            review_ave = float(i['reviewAverage'])\n",
    "            price=int(i['itemPrice'])\n",
    "            rev_cnt=int(i['reviewCount'])\n",
    "            \n",
    "#           イメージURLの保存\n",
    "            try:\n",
    "                m_url1 = \"../static/image/no_image.jpg\"\n",
    "                m_url2 = \"../static/image/no_image.jpg\"\n",
    "                m_url3 = \"../static/image/no_image.jpg\"\n",
    "                m_url4 = \"../static/image/no_image.jpg\"\n",
    "                m_url5 = \"../static/image/no_image.jpg\"\n",
    "            \n",
    "                m_url1 = i['mediumImageUrls'][0]\n",
    "                m_url2 = i['mediumImageUrls'][1]\n",
    "                m_url3 = i['mediumImageUrls'][2]\n",
    "                m_url4 = i['mediumImageUrls'][3]\n",
    "                m_url5 = i['mediumImageUrls'][4]\n",
    "            except:\n",
    "                time.sleep(0.1)\n",
    "            try:\n",
    "                s_url1 = \"../static/image/no_image.jpg\"\n",
    "                s_url2 = \"../static/image/no_image.jpg\"\n",
    "                s_url3 = \"../static/image/no_image.jpg\"\n",
    "                s_url4 = \"../static/image/no_image.jpg\"\n",
    "                s_url5 = \"../static/image/no_image.jpg\"\n",
    "            \n",
    "                s_url1 = i['mediumImageUrls'][0]\n",
    "                s_url2 = i['mediumImageUrls'][1]\n",
    "                s_url3 = i['mediumImageUrls'][2]\n",
    "                s_url4 = i['mediumImageUrls'][3]\n",
    "                s_url5 = i['mediumImageUrls'][4]\n",
    "            except:\n",
    "                time.sleep(0.1)\n",
    "            with connection.cursor() as cursor:\n",
    "                sql = \"INSERT INTO product_table(`itemPrice`, `itemName`, `reviewCount`, `reviewAverage`, `itemCaption`, `mediumImageUrls_1`, `mediumImageUrls_2`, `mediumImageUrls_3`, `mediumImageUrls_4`, `mediumImageUrls_5`, `smallImageUrls_1`, `smallImageUrls_2`, `smallImageUrls_3`, `smallImageUrls_4`, `smallImageUrls_5`) VALUES ({},'{}',{},{},'{}','{}','{}','{}','{}','{}','{}','{}','{}','{}','{}')\".format(price,i['itemName'],rev_cnt,review_ave,i['itemCaption'],m_url1,m_url2,m_url3,m_url4,m_url5,s_url1,s_url2,s_url3,s_url4,s_url5)\n",
    "                print(sql)\n",
    "                cursor.execute(sql)\n",
    "                connection.commit()\n",
    "#         print(i)"
   ]
  },
  {
   "cell_type": "code",
   "execution_count": 5,
   "metadata": {},
   "outputs": [
    {
     "ename": "SyntaxError",
     "evalue": "invalid syntax (<ipython-input-5-3c9e0d0cbfd6>, line 2)",
     "output_type": "error",
     "traceback": [
      "\u001b[1;36m  File \u001b[1;32m\"<ipython-input-5-3c9e0d0cbfd6>\"\u001b[1;36m, line \u001b[1;32m2\u001b[0m\n\u001b[1;33m    try:a=20 except:a=10\u001b[0m\n\u001b[1;37m                  ^\u001b[0m\n\u001b[1;31mSyntaxError\u001b[0m\u001b[1;31m:\u001b[0m invalid syntax\n"
     ]
    }
   ],
   "source": [
    "a=0\n",
    "try:a=20 except:a=10"
   ]
  },
  {
   "cell_type": "code",
   "execution_count": 80,
   "metadata": {},
   "outputs": [
    {
     "name": "stdout",
     "output_type": "stream",
     "text": [
      "爽快ドリンク専門店\n",
      "秋田のおいしい水　真純水\n",
      "快適ホーム\n",
      "爽快ドリンク専門店\n",
      "クリックル【水・ソフトドリンク】\n",
      "暮らし健康ネット館\n",
      "美陽堂 BIYOUDO\n",
      "ココデカウ\n",
      "MrMax\n",
      "水 お茶 炭酸のお店 おおきに屋\n",
      "爽快ドリンク専門店\n",
      "静岡県伊豆の国市\n",
      "MrMax\n",
      "よろずやマルシェ\n",
      "財宝公式通販　楽天市場店\n",
      "あぶらじん楽天市場店\n",
      "よろずやマルシェ\n",
      "楽天24\n",
      "暮らし健康ネット館\n",
      "爽快ドリンク専門店\n",
      "MrMax\n",
      "鹿児島県垂水市\n",
      "爽快ドリンク専門店\n",
      "楽天24\n",
      "鹿児島県垂水市\n",
      "財宝公式通販　楽天市場店\n",
      "ぱーそなるたのめーる\n",
      "爽快ドラッグ\n",
      "快適空間のお手伝い B＆C\n",
      "秋田のおいしい水　真純水\n"
     ]
    }
   ],
   "source": [
    "for i in item_data['Items']:\n",
    "    print(i['shopName'])"
   ]
  },
  {
   "cell_type": "code",
   "execution_count": 83,
   "metadata": {},
   "outputs": [
    {
     "name": "stdout",
     "output_type": "stream",
     "text": [
      "あぶらじん楽天市場店\n",
      "ガーデニングライフ\n",
      "福寿鉱泉販売所\n",
      "西友楽天市場店\n",
      "クリックル【水・ソフトドリンク】\n",
      "爽快ドリンク専門店\n",
      "マツモトキヨシ楽天市場店\n",
      "カウモール\n",
      "アドショップ\n",
      "熊本県玉東町\n",
      "楽天24\n",
      "酒類の総合専門店　フェリシティー\n",
      "暮らし健康ネット館\n",
      "爽快ドラッグ\n",
      "爽快ドリンク専門店\n",
      "あぶらじん楽天市場店\n",
      "クリックル【水・ソフトドリンク】\n",
      "ケンコーコム\n",
      "クリックル【水・ソフトドリンク】\n",
      "生活便利創庫スーパーキッド\n",
      "爽快ドリンク専門店\n",
      "クリックル【水・ソフトドリンク】\n",
      "防災のサイボウ　楽天市場店\n",
      "Authentic Gallery ark\n",
      "おとぎの国\n",
      "爽快ドリンク専門店\n",
      "お酒の専門店　リカマン楽天市場店\n",
      "クリックル【水・ソフトドリンク】\n",
      "ドリンク屋【水・ソフトドリンク】\n",
      "爽快ドラッグ\n"
     ]
    }
   ],
   "source": [
    "for i in item_data['Items']:\n",
    "    print(i['shopName'])"
   ]
  },
  {
   "cell_type": "code",
   "execution_count": 86,
   "metadata": {},
   "outputs": [
    {
     "name": "stdout",
     "output_type": "stream",
     "text": [
      "マツモトキヨシ楽天市場店\n",
      "日本の酒専門店　地酒屋　萬禄\n",
      "イズミックワールド\n",
      "ケンコーコム\n",
      "VOX 公式ストア\n",
      "おとぎの国\n",
      "韓流館ショップ\n",
      "DON online shop 楽天市場店\n",
      "マツモトキヨシ楽天市場店\n",
      "爽快ドリンク専門店\n",
      "あぶらじん楽天市場店\n",
      "ふっか屋\n",
      "カウモール\n",
      "酒類の総合専門店　フェリシティー\n",
      "爽快ドリンク専門店\n",
      "あぶらじん楽天市場店\n",
      "THINK RICH STORE\n",
      "楽天24\n",
      "暮らし健康ネット館\n",
      "秋田のおいしい水　真純水\n",
      "楽天24\n",
      "鹿児島県垂水市\n",
      "ペットランド（PETLAND）\n",
      "ベイシア楽天市場店\n",
      "Authentic Gallery ark\n",
      "カウモール\n",
      "爽快ドラッグ\n",
      "防災用品・災害対策　ピースアップ\n",
      "マツモトキヨシ楽天市場店\n",
      "ケンコーコム\n"
     ]
    }
   ],
   "source": [
    "for i in item_data['Items']:\n",
    "    print(i['shopName'])"
   ]
  },
  {
   "cell_type": "code",
   "execution_count": 54,
   "metadata": {},
   "outputs": [
    {
     "name": "stdout",
     "output_type": "stream",
     "text": [
      "30\n",
      "{'mediumImageUrls': ['https://thumbnail.image.rakuten.co.jp/@0_mall/rakuten24/cabinet/074/9000009984074.jpg?_ex=128x128'], 'pointRate': 1, 'shopOfTheYearFlag': 0, 'affiliateRate': 8, 'shipOverseasFlag': 0, 'asurakuFlag': 0, 'endTime': '', 'taxFlag': 0, 'startTime': '', 'itemCaption': 'お店TOP＞水・飲料＞水・ミネラルウォーター＞ミネラルウォーター＞ミネラルウォーター全部＞クリスタルガイザー 水 (500mL*48本入)合わせ買いは商品合計税抜2500円で送料無料（北海道・沖縄除く）【クリスタルガイザー 水の商品詳細】アメリカの定番ミネラルウォーター、クリスタルガイザー。まとめ買いに最適！クセが少なく飲みやすいので、水分補給にそのまま飲むもよし、コーヒー・お茶などの飲料用、お米やお料理等、体に取り入れる水としていろいろな場所場面で大活躍！また、職場・学校・お店・レジャー等外出先にも持って行っていろいろな場面で使えますよ。非常時の備えとして防災グッズとあわせて備蓄しておくのもおすすめです。【クリスタルガイザー 水の原材料】水(湧水)【栄養成分】カリフォルニア・オランチャ水源(100mLあたり)エネルギー・・・0kcaLたんぱく質・・・0g脂質・・・0g炭水化物・・・0gナトリウム・・・1.91mgカルシウム・・・2.24mgマグネシウム・・・0.27mgカリウム・・・0.26mg硬度・・・67mg／Lウィード・シャスタ水源(100mLあたり)エネルギー・・・0kcaLタンパク質・・・0g脂質・・・ 0g炭水化物・・・0gナトリウム・・・1.13mgカルシウム・・・ 0.64mgマグネシウム・・・0.54mgカリウム・・・0.18mgバナジウム・・・ 5μg硬度・・・38mg／L【保存方法】・高温、直射日光をさけて保存してください。・開栓後は冷蔵庫に入れ、お早めにお飲みください。・容器のまま、加熱、凍結はしないでください。・加熱、凍結、長期保存等により白い沈殿物ができる事がありますが、天然のミネラル成分の結晶ですのでご安心ください。【注意事項】・キャップが小さく、開けづらくなっております。開封時にはプラスチック部分で指などを切らないようご注意ください。【原産国】アメリカ【ブランド】クリスタルガイザー(Crystal Geyser)【発売元、製造元、輸入元又は販売元】楽天本品は並行輸入品です。パッケージ等、予告なく変更される場合がございます。予めご了承ください。賞味期限はボトル上部にSELL\\u3000BY\\u3000MM.DD.YYと記載されております。 例）10.08.20XX→20XX年10月8日まで採水地は2か所（オランチャ・シャスタ）ございますがお選びいただくことはできません。リニューアルに伴い、パッケージ・内容等予告なく変更する場合がございます。予めご了承ください。(ケース セット Crystal Geyser クリスタルカイザー 0.5L クリスタルゲイザー)/ケース/楽天810-0001 福岡県福岡市中央区天神1丁目15番6号050-5306-1825広告文責：楽天株式会社電話：050-5577-5043[ミネラルウォーター/ブランド：クリスタルガイザー(Crystal Geyser)/]', 'catchcopy': '合わせ買いは商品合計税抜2500円で送料無料（北海道・沖縄除く） / 水 ミネラルウォーター 500ml 48本入 / クリスタルガイザー(Crystal Geyser) / クリスタルガイザー 水', 'tagIds': [1003704, 1003726, 1003729, 1003741, 1003798, 1007192, 1007194], 'smallImageUrls': ['https://thumbnail.image.rakuten.co.jp/@0_mall/rakuten24/cabinet/074/9000009984074.jpg?_ex=64x64'], 'asurakuClosingTime': '', 'imageFlag': 1, 'availability': 1, 'shopAffiliateUrl': '', 'itemCode': 'rakuten24:10130129', 'postageFlag': 0, 'itemName': 'クリスタルガイザー 水(500mL*48本入)【イチオシ】【bnad02】【WSpe06】【cga01】【クリスタルガイザー(Crystal Geyser)】[水 ミネラルウォーター 500ml 48本入]', 'itemPrice': 2420, 'pointRateEndTime': '', 'shopCode': 'rakuten24', 'affiliateUrl': '', 'giftFlag': 0, 'shopName': '楽天24', 'reviewCount': 20431, 'asurakuArea': '', 'shopUrl': 'https://www.rakuten.co.jp/rakuten24/', 'creditCardFlag': 1, 'reviewAverage': 4.65, 'shipOverseasArea': '', 'genreId': '201351', 'pointRateStartTime': '', 'itemUrl': 'https://item.rakuten.co.jp/rakuten24/c001222600001/'}\n",
      "{'mediumImageUrls': ['https://thumbnail.image.rakuten.co.jp/@0_mall/rakuten24/cabinet/068/10068.jpg?_ex=128x128'], 'pointRate': 1, 'shopOfTheYearFlag': 0, 'affiliateRate': 8, 'shipOverseasFlag': 0, 'asurakuFlag': 0, 'endTime': '', 'taxFlag': 0, 'startTime': '', 'itemCaption': 'お店TOP＞水・飲料＞水・ミネラルウォーター＞ミネラルウォーター＞国内ミネラルウォーター＞コカ・コーラ 森の水だより ペコらくボトル (2L*12本セット)合わせ買いは商品合計税抜2500円で送料無料（北海道・沖縄除く）【コカ・コーラ 森の水だより ペコらくボトルの商品詳細】●大型PETで不満に感じられていた、飲用後のつぶしにくさや注ぎにくさを改善した、「つぶしやすい、しかも、注ぎやすい。」新しい大型ペットボトルです。●自然の恵みを含んだおいしい天然水を、徹底した品質管理のもと、採水地で汲み上げその場でボトリングする、「採水地パック製法」を採用。新鮮でやさしいおいしさを、そのままお楽しみいただけます。【品名・名称】ナチュラルミネラルウォーター【コカ・コーラ 森の水だより ペコらくボトルの原材料】水(鉱水)【原産国】日本【ブランド】コカコーラ(Coca-Cola)【発売元、製造元、輸入元又は販売元】日本コカ・コーラ※お届けする地域により、採水地が異なります。予めご了承ください。※お届けは、12本セット(6本入*2コ)となります。※説明文は単品の内容です。リニューアルに伴い、パッケージ・内容等予告なく変更する場合がございます。予めご了承ください。(2000mL)・単品JAN：4902102112062/ケース/日本コカ・コーラ150-0002 東京都渋谷区渋谷4-6-30120-308509広告文責：楽天株式会社電話：050-5577-5043[ミネラルウォーター/ブランド：コカコーラ(Coca-Cola)/]\\u3000', 'catchcopy': '合わせ買いは商品合計税抜2500円で送料無料（北海道・沖縄除く） / 水 ミネラルウォーター 2l 12本 / コカコーラ(Coca-Cola) / コカ・コーラ 森の水だより ペコらくボトル', 'tagIds': [1003740, 1007195, 1011738, 1027392], 'smallImageUrls': ['https://thumbnail.image.rakuten.co.jp/@0_mall/rakuten24/cabinet/068/10068.jpg?_ex=64x64'], 'asurakuClosingTime': '', 'imageFlag': 1, 'availability': 1, 'shopAffiliateUrl': '', 'itemCode': 'rakuten24:10673995', 'postageFlag': 0, 'itemName': 'コカ・コーラ 森の水だより ペコらくボトル(2L*12本セット)【コカコーラ(Coca-Cola)】[水 ミネラルウォーター 2l 12本]', 'itemPrice': 1748, 'pointRateEndTime': '', 'shopCode': 'rakuten24', 'affiliateUrl': '', 'giftFlag': 0, 'shopName': '楽天24', 'reviewCount': 2, 'asurakuArea': '', 'shopUrl': 'https://www.rakuten.co.jp/rakuten24/', 'creditCardFlag': 1, 'reviewAverage': 4.5, 'shipOverseasArea': '', 'genreId': '201351', 'pointRateStartTime': '', 'itemUrl': 'https://item.rakuten.co.jp/rakuten24/10068/'}\n"
     ]
    }
   ],
   "source": [
    "# ショップ名が楽天24の商品のみをDBにInsertしていく\n",
    "print(len(item_data['Items']))\n",
    "for i in item_data['Items']:\n",
    "#     print(i['shopName'])\n",
    "    if i['shopName'] == \"楽天24\":\n",
    "        review_ave = float(i['reviewAverage'])\n",
    "        price=int(i['itemPrice'])\n",
    "        rev_cnt=int(i['reviewCount'])\n",
    "        \n",
    "        with connection.cursor() as cursor:\n",
    "            sql = \"INSERT INTO product_table(`itemPrice`, `mediumImageUrls`, `itemName`, `reviewCount`, `reviewAverage`, `itemCaption`) VALUES ({},'{}','{}',{},{},'{}')\".format(price,i['mediumImageUrls'][0],i['itemName'],rev_cnt,review_ave,i['itemCaption'])\n",
    "            cursor.execute(sql)\n",
    "            connection.commit()\n",
    "        print(i)"
   ]
  },
  {
   "cell_type": "code",
   "execution_count": null,
   "metadata": {},
   "outputs": [],
   "source": []
  }
 ],
 "metadata": {
  "kernelspec": {
   "display_name": "Python 3",
   "language": "python",
   "name": "python3"
  },
  "language_info": {
   "codemirror_mode": {
    "name": "ipython",
    "version": 3
   },
   "file_extension": ".py",
   "mimetype": "text/x-python",
   "name": "python",
   "nbconvert_exporter": "python",
   "pygments_lexer": "ipython3",
   "version": "3.7.4"
  }
 },
 "nbformat": 4,
 "nbformat_minor": 4
}
